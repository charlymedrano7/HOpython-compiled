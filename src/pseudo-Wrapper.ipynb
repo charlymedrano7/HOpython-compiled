{
 "cells": [
  {
   "cell_type": "code",
   "execution_count": 1,
   "metadata": {
    "collapsed": true
   },
   "outputs": [],
   "source": [
    "import ctypes as C              #import ctypes"
   ]
  },
  {
   "cell_type": "code",
   "execution_count": 2,
   "metadata": {
    "collapsed": false
   },
   "outputs": [],
   "source": [
    "math = C.CDLL('./lib_math.so')  #Cargado de la librería dinámica escrita en C"
   ]
  },
  {
   "cell_type": "code",
   "execution_count": 3,
   "metadata": {
    "collapsed": true
   },
   "outputs": [],
   "source": [
    "def sumaIntSimple(a,b):\n",
    "    return math.add_int(a,b)                        #devuelve la suma entera\n",
    "\n",
    "def sumaFloatSimple (a,b):\n",
    "    math.add_float.argtypes = [C.c_float,C.c_float] #Los argumentos de la suma es una lista de dos flotantes\n",
    "    math.add_float.restype = C.c_float              #El resultado es un flotante (para que interprete python)\n",
    "    return math.add_float(a,b)                      #devuelve el resultado de la suma\n",
    "\n",
    "def sumaIntSimpleByRef (a, b):\n",
    "    a = C.c_int(a)                #Declara los enteros a sumar\n",
    "    b = C.c_int(b)\n",
    "    c = C.c_int()                 #Declara el resultado como entero en C\n",
    "    math.add_int_ref(C.byref(a),C.byref(b),C.byref(c))         #Hace la suma por referencia\n",
    "    return c.value                                             #devuelve el valor de la suma\n",
    "\n",
    "def sumaFloatSimpleByRef (a, b):\n",
    "    a = C.c_float(a)              #Declara los flotantes a sumar\n",
    "    b = C.c_float(b)\n",
    "    c = C.c_float()               #Declara el resultado como flotante\n",
    "    math.add_float_ref(C.byref(a),C.byref(b),C.byref(c))       #Hace la suma por referencia\n",
    "    return c.value                                             #devuelve el valor de la suma"
   ]
  },
  {
   "cell_type": "code",
   "execution_count": 4,
   "metadata": {
    "collapsed": false
   },
   "outputs": [
    {
     "data": {
      "text/plain": [
       "7"
      ]
     },
     "execution_count": 4,
     "metadata": {},
     "output_type": "execute_result"
    }
   ],
   "source": [
    "sumaIntSimple(3,4)"
   ]
  },
  {
   "cell_type": "code",
   "execution_count": 5,
   "metadata": {
    "collapsed": false
   },
   "outputs": [
    {
     "data": {
      "text/plain": [
       "7.0"
      ]
     },
     "execution_count": 5,
     "metadata": {},
     "output_type": "execute_result"
    }
   ],
   "source": [
    "sumaFloatSimple(3,4)"
   ]
  },
  {
   "cell_type": "code",
   "execution_count": 6,
   "metadata": {
    "collapsed": false
   },
   "outputs": [
    {
     "data": {
      "text/plain": [
       "7"
      ]
     },
     "execution_count": 6,
     "metadata": {},
     "output_type": "execute_result"
    }
   ],
   "source": [
    "sumaIntSimpleByRef(3,4)"
   ]
  },
  {
   "cell_type": "code",
   "execution_count": 7,
   "metadata": {
    "collapsed": false
   },
   "outputs": [
    {
     "data": {
      "text/plain": [
       "7.0"
      ]
     },
     "execution_count": 7,
     "metadata": {},
     "output_type": "execute_result"
    }
   ],
   "source": [
    "sumaFloatSimpleByRef(3,4)"
   ]
  },
  {
   "cell_type": "code",
   "execution_count": 8,
   "metadata": {
    "collapsed": false
   },
   "outputs": [],
   "source": [
    "def sumaIntArray (a,b):\n",
    "    n = len(a)                    #número de elementos de los vectores\n",
    "    c = [0]*n                     \n",
    "    fila1 = (C.c_int * n) (*a)    #allocateo de espacio en C, necesito n enteros que son *a (el * me da los elementos a)\n",
    "    fila2 = (C.c_int * n) (*b)\n",
    "    out = (C.c_int * n) (*c)      #allocateo de espacio para el vector resultado   \n",
    "    math.add_int_array(C.byref(fila1),             #operación en C\n",
    "                       C.byref(fila2),\n",
    "                         C.byref(out),\n",
    "                           C.c_int(n))\n",
    "    return out[:]                                  #devuelve la lista \n",
    "\n",
    "def prodPuntoIntArray (a,b):\n",
    "    n = len(a)                       #número de elementos de los vectores                \n",
    "    fila1 = (C.c_float * n) (*a)     #allocateo de espacio en C, necesito n enteros que son los elementos de a\n",
    "    fila2 = (C.c_float * n) (*b)\n",
    "    out = C.c_float                  #allocateo de espacio para el resultado float  \n",
    "    math.dot_product.restype = C.c_float\n",
    "    out =  math.dot_product(C.byref(fila1),             #operación en C, necesita los dos vectores y el número de\n",
    "                            C.byref(fila2),             #elementos del vector\n",
    "                                C.c_int(n))\n",
    "    return out\n",
    "    "
   ]
  },
  {
   "cell_type": "code",
   "execution_count": 9,
   "metadata": {
    "collapsed": true
   },
   "outputs": [],
   "source": [
    "a = (2,4,6)\n",
    "b = (1,1,1)"
   ]
  },
  {
   "cell_type": "code",
   "execution_count": 10,
   "metadata": {
    "collapsed": false
   },
   "outputs": [
    {
     "data": {
      "text/plain": [
       "[3, 5, 7]"
      ]
     },
     "execution_count": 10,
     "metadata": {},
     "output_type": "execute_result"
    }
   ],
   "source": [
    "sumaIntArray(a,b)"
   ]
  },
  {
   "cell_type": "code",
   "execution_count": 11,
   "metadata": {
    "collapsed": false
   },
   "outputs": [
    {
     "data": {
      "text/plain": [
       "12.0"
      ]
     },
     "execution_count": 11,
     "metadata": {},
     "output_type": "execute_result"
    }
   ],
   "source": [
    "prodPuntoIntArray(a,b)"
   ]
  },
  {
   "cell_type": "code",
   "execution_count": null,
   "metadata": {
    "collapsed": false
   },
   "outputs": [],
   "source": []
  },
  {
   "cell_type": "code",
   "execution_count": null,
   "metadata": {
    "collapsed": true
   },
   "outputs": [],
   "source": []
  }
 ],
 "metadata": {
  "kernelspec": {
   "display_name": "Python 3",
   "language": "python",
   "name": "python3"
  },
  "language_info": {
   "codemirror_mode": {
    "name": "ipython",
    "version": 3
   },
   "file_extension": ".py",
   "mimetype": "text/x-python",
   "name": "python",
   "nbconvert_exporter": "python",
   "pygments_lexer": "ipython3",
   "version": "3.6.0"
  }
 },
 "nbformat": 4,
 "nbformat_minor": 2
}
